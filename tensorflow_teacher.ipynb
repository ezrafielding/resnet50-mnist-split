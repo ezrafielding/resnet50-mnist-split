{
 "cells": [
  {
   "cell_type": "code",
   "execution_count": 1,
   "metadata": {},
   "outputs": [
    {
     "name": "stderr",
     "output_type": "stream",
     "text": [
      "2023-05-31 17:14:58.589778: I tensorflow/core/util/port.cc:110] oneDNN custom operations are on. You may see slightly different numerical results due to floating-point round-off errors from different computation orders. To turn them off, set the environment variable `TF_ENABLE_ONEDNN_OPTS=0`.\n",
      "2023-05-31 17:14:58.616803: I tensorflow/core/platform/cpu_feature_guard.cc:182] This TensorFlow binary is optimized to use available CPU instructions in performance-critical operations.\n",
      "To enable the following instructions: AVX2 AVX_VNNI FMA, in other operations, rebuild TensorFlow with the appropriate compiler flags.\n",
      "2023-05-31 17:14:59.034837: W tensorflow/compiler/tf2tensorrt/utils/py_utils.cc:38] TF-TRT Warning: Could not find TensorRT\n"
     ]
    }
   ],
   "source": [
    "import tensorflow as tf\n",
    "import numpy as np\n",
    "from sklearn.metrics import confusion_matrix, classification_report, ConfusionMatrixDisplay"
   ]
  },
  {
   "cell_type": "code",
   "execution_count": 2,
   "metadata": {},
   "outputs": [
    {
     "name": "stderr",
     "output_type": "stream",
     "text": [
      "2023-05-31 17:14:59.860414: I tensorflow/compiler/xla/stream_executor/cuda/cuda_gpu_executor.cc:996] successful NUMA node read from SysFS had negative value (-1), but there must be at least one NUMA node, so returning NUMA node zero. See more at https://github.com/torvalds/linux/blob/v6.0/Documentation/ABI/testing/sysfs-bus-pci#L344-L355\n",
      "2023-05-31 17:14:59.877926: I tensorflow/compiler/xla/stream_executor/cuda/cuda_gpu_executor.cc:996] successful NUMA node read from SysFS had negative value (-1), but there must be at least one NUMA node, so returning NUMA node zero. See more at https://github.com/torvalds/linux/blob/v6.0/Documentation/ABI/testing/sysfs-bus-pci#L344-L355\n",
      "2023-05-31 17:14:59.878053: I tensorflow/compiler/xla/stream_executor/cuda/cuda_gpu_executor.cc:996] successful NUMA node read from SysFS had negative value (-1), but there must be at least one NUMA node, so returning NUMA node zero. See more at https://github.com/torvalds/linux/blob/v6.0/Documentation/ABI/testing/sysfs-bus-pci#L344-L355\n",
      "2023-05-31 17:14:59.878923: I tensorflow/compiler/xla/stream_executor/cuda/cuda_gpu_executor.cc:996] successful NUMA node read from SysFS had negative value (-1), but there must be at least one NUMA node, so returning NUMA node zero. See more at https://github.com/torvalds/linux/blob/v6.0/Documentation/ABI/testing/sysfs-bus-pci#L344-L355\n",
      "2023-05-31 17:14:59.879006: I tensorflow/compiler/xla/stream_executor/cuda/cuda_gpu_executor.cc:996] successful NUMA node read from SysFS had negative value (-1), but there must be at least one NUMA node, so returning NUMA node zero. See more at https://github.com/torvalds/linux/blob/v6.0/Documentation/ABI/testing/sysfs-bus-pci#L344-L355\n",
      "2023-05-31 17:14:59.879051: I tensorflow/compiler/xla/stream_executor/cuda/cuda_gpu_executor.cc:996] successful NUMA node read from SysFS had negative value (-1), but there must be at least one NUMA node, so returning NUMA node zero. See more at https://github.com/torvalds/linux/blob/v6.0/Documentation/ABI/testing/sysfs-bus-pci#L344-L355\n",
      "2023-05-31 17:15:00.390809: I tensorflow/compiler/xla/stream_executor/cuda/cuda_gpu_executor.cc:996] successful NUMA node read from SysFS had negative value (-1), but there must be at least one NUMA node, so returning NUMA node zero. See more at https://github.com/torvalds/linux/blob/v6.0/Documentation/ABI/testing/sysfs-bus-pci#L344-L355\n",
      "2023-05-31 17:15:00.390929: I tensorflow/compiler/xla/stream_executor/cuda/cuda_gpu_executor.cc:996] successful NUMA node read from SysFS had negative value (-1), but there must be at least one NUMA node, so returning NUMA node zero. See more at https://github.com/torvalds/linux/blob/v6.0/Documentation/ABI/testing/sysfs-bus-pci#L344-L355\n",
      "2023-05-31 17:15:00.390982: I tensorflow/compiler/xla/stream_executor/cuda/cuda_gpu_executor.cc:996] successful NUMA node read from SysFS had negative value (-1), but there must be at least one NUMA node, so returning NUMA node zero. See more at https://github.com/torvalds/linux/blob/v6.0/Documentation/ABI/testing/sysfs-bus-pci#L344-L355\n",
      "2023-05-31 17:15:00.391031: I tensorflow/core/common_runtime/gpu/gpu_device.cc:1635] Created device /job:localhost/replica:0/task:0/device:GPU:0 with 22245 MB memory:  -> device: 0, name: NVIDIA GeForce RTX 3090, pci bus id: 0000:08:00.0, compute capability: 8.6\n"
     ]
    }
   ],
   "source": [
    "(x_train, y_train), (x_test, y_test) = tf.keras.datasets.mnist.load_data()\n",
    "input_shape = (28, 28, 1)\n",
    "\n",
    "x_train=x_train.reshape(x_train.shape[0], x_train.shape[1], x_train.shape[2], 1)\n",
    "x_train=x_train / 255.0\n",
    "x_test = x_test.reshape(x_test.shape[0], x_test.shape[1], x_test.shape[2], 1)\n",
    "x_test=x_test/255.0\n",
    "\n",
    "y_train = tf.one_hot(y_train.astype(np.int32), depth=10)\n",
    "y_test = tf.one_hot(y_test.astype(np.int32), depth=10)"
   ]
  },
  {
   "cell_type": "code",
   "execution_count": 3,
   "metadata": {},
   "outputs": [],
   "source": [
    "resnet = tf.keras.applications.resnet50.ResNet50(\n",
    "    include_top=True,\n",
    "    weights=None,\n",
    "    input_tensor=None,\n",
    "    input_shape=(32,32,1),\n",
    "    pooling=None,\n",
    "    classes=10,\n",
    ")"
   ]
  },
  {
   "cell_type": "code",
   "execution_count": 4,
   "metadata": {},
   "outputs": [],
   "source": [
    "cfg = resnet.get_config()\n",
    "cfg['layers'][0]['config']['batch_input_shape'] = (None, 28, 28, 1)\n",
    "model = tf.keras.Model.from_config(cfg)"
   ]
  },
  {
   "cell_type": "code",
   "execution_count": 5,
   "metadata": {},
   "outputs": [],
   "source": [
    "model.compile(\n",
    "    optimizer=tf.keras.optimizers.SGD(learning_rate=0.001, momentum=0.9),\n",
    "    loss='categorical_crossentropy',\n",
    "    metrics=[\"accuracy\"]\n",
    ")"
   ]
  },
  {
   "cell_type": "code",
   "execution_count": 6,
   "metadata": {},
   "outputs": [
    {
     "name": "stdout",
     "output_type": "stream",
     "text": [
      "Epoch 1/20\n"
     ]
    },
    {
     "name": "stderr",
     "output_type": "stream",
     "text": [
      "2023-05-31 17:15:06.828171: I tensorflow/compiler/xla/stream_executor/cuda/cuda_dnn.cc:424] Loaded cuDNN version 8600\n",
      "2023-05-31 17:15:07.392293: I tensorflow/tsl/platform/default/subprocess.cc:304] Start cannot spawn child process: No such file or directory\n",
      "2023-05-31 17:15:07.878222: I tensorflow/compiler/xla/stream_executor/cuda/cuda_blas.cc:637] TensorFloat-32 will be used for the matrix multiplication. This will only be logged once.\n",
      "2023-05-31 17:15:07.879755: I tensorflow/compiler/xla/service/service.cc:169] XLA service 0x7f8932d14190 initialized for platform CUDA (this does not guarantee that XLA will be used). Devices:\n",
      "2023-05-31 17:15:07.879768: I tensorflow/compiler/xla/service/service.cc:177]   StreamExecutor device (0): NVIDIA GeForce RTX 3090, Compute Capability 8.6\n",
      "2023-05-31 17:15:07.889489: I tensorflow/tsl/platform/default/subprocess.cc:304] Start cannot spawn child process: No such file or directory\n",
      "2023-05-31 17:15:07.915744: I ./tensorflow/compiler/jit/device_compiler.h:180] Compiled cluster using XLA!  This line is logged at most once for the lifetime of the process.\n"
     ]
    },
    {
     "name": "stdout",
     "output_type": "stream",
     "text": [
      "422/422 [==============================] - 20s 23ms/step - loss: 0.5588 - accuracy: 0.8370 - val_loss: 0.1483 - val_accuracy: 0.9578\n",
      "Epoch 2/20\n",
      "422/422 [==============================] - 8s 18ms/step - loss: 0.1246 - accuracy: 0.9622 - val_loss: 0.0873 - val_accuracy: 0.9733\n",
      "Epoch 3/20\n",
      "422/422 [==============================] - 8s 18ms/step - loss: 0.0729 - accuracy: 0.9770 - val_loss: 0.0780 - val_accuracy: 0.9792\n",
      "Epoch 4/20\n",
      "422/422 [==============================] - 8s 18ms/step - loss: 0.0473 - accuracy: 0.9850 - val_loss: 0.0821 - val_accuracy: 0.9750\n",
      "Epoch 5/20\n",
      "422/422 [==============================] - 8s 18ms/step - loss: 0.0326 - accuracy: 0.9890 - val_loss: 0.0688 - val_accuracy: 0.9817\n",
      "Epoch 6/20\n",
      "422/422 [==============================] - 8s 18ms/step - loss: 0.0214 - accuracy: 0.9930 - val_loss: 0.0694 - val_accuracy: 0.9845\n",
      "Epoch 7/20\n",
      "422/422 [==============================] - 8s 18ms/step - loss: 0.0150 - accuracy: 0.9950 - val_loss: 0.0597 - val_accuracy: 0.9850\n",
      "Epoch 8/20\n",
      "422/422 [==============================] - 8s 18ms/step - loss: 0.0112 - accuracy: 0.9963 - val_loss: 0.0718 - val_accuracy: 0.9832\n",
      "Epoch 9/20\n",
      "422/422 [==============================] - 8s 18ms/step - loss: 0.0107 - accuracy: 0.9966 - val_loss: 0.0632 - val_accuracy: 0.9852\n",
      "Epoch 10/20\n",
      "422/422 [==============================] - 8s 18ms/step - loss: 0.0079 - accuracy: 0.9976 - val_loss: 0.0735 - val_accuracy: 0.9830\n",
      "Epoch 11/20\n",
      "422/422 [==============================] - 8s 18ms/step - loss: 0.0065 - accuracy: 0.9979 - val_loss: 0.0705 - val_accuracy: 0.9865\n",
      "Epoch 12/20\n",
      "422/422 [==============================] - 8s 18ms/step - loss: 0.0042 - accuracy: 0.9987 - val_loss: 0.0655 - val_accuracy: 0.9855\n",
      "Epoch 13/20\n",
      "422/422 [==============================] - 8s 18ms/step - loss: 0.0044 - accuracy: 0.9986 - val_loss: 0.0730 - val_accuracy: 0.9847\n",
      "Epoch 14/20\n",
      "422/422 [==============================] - 8s 18ms/step - loss: 0.0037 - accuracy: 0.9989 - val_loss: 0.0653 - val_accuracy: 0.9858\n",
      "Epoch 15/20\n",
      "422/422 [==============================] - 8s 18ms/step - loss: 0.0027 - accuracy: 0.9994 - val_loss: 0.0651 - val_accuracy: 0.9877\n",
      "Epoch 16/20\n",
      "422/422 [==============================] - 8s 18ms/step - loss: 0.0045 - accuracy: 0.9987 - val_loss: 0.0770 - val_accuracy: 0.9855\n",
      "Epoch 17/20\n",
      "422/422 [==============================] - 8s 18ms/step - loss: 0.0043 - accuracy: 0.9987 - val_loss: 0.0687 - val_accuracy: 0.9862\n",
      "Epoch 18/20\n",
      "422/422 [==============================] - 8s 18ms/step - loss: 0.0037 - accuracy: 0.9989 - val_loss: 0.0653 - val_accuracy: 0.9870\n",
      "Epoch 19/20\n",
      "422/422 [==============================] - 8s 18ms/step - loss: 0.0023 - accuracy: 0.9993 - val_loss: 0.0635 - val_accuracy: 0.9870\n",
      "Epoch 20/20\n",
      "422/422 [==============================] - 8s 18ms/step - loss: 0.0027 - accuracy: 0.9992 - val_loss: 0.0741 - val_accuracy: 0.9858\n"
     ]
    }
   ],
   "source": [
    "history = model.fit(x_train, y_train,\n",
    "                    batch_size=128,\n",
    "                    epochs=20,\n",
    "                    validation_split=0.1,\n",
    ")"
   ]
  },
  {
   "cell_type": "code",
   "execution_count": 7,
   "metadata": {},
   "outputs": [
    {
     "name": "stdout",
     "output_type": "stream",
     "text": [
      "313/313 [==============================] - 2s 5ms/step - loss: 0.0696 - accuracy: 0.9824\n",
      "Loss:  0.06963280588388443  Accuracy:  0.9824000000953674\n"
     ]
    }
   ],
   "source": [
    "test_loss, test_acc = model.evaluate(x_test, y_test)\n",
    "print(\"Loss: \", test_loss,\" Accuracy: \", test_acc)"
   ]
  },
  {
   "cell_type": "code",
   "execution_count": 8,
   "metadata": {},
   "outputs": [
    {
     "name": "stdout",
     "output_type": "stream",
     "text": [
      "313/313 [==============================] - 1s 3ms/step\n",
      "              precision    recall  f1-score   support\n",
      "\n",
      "           0       0.99      0.99      0.99       980\n",
      "           1       0.99      0.99      0.99      1135\n",
      "           2       0.99      0.98      0.98      1032\n",
      "           3       0.97      0.99      0.98      1010\n",
      "           4       0.99      0.98      0.98       982\n",
      "           5       0.99      0.97      0.98       892\n",
      "           6       0.99      0.98      0.99       958\n",
      "           7       0.98      0.98      0.98      1028\n",
      "           8       0.98      0.98      0.98       974\n",
      "           9       0.97      0.97      0.97      1009\n",
      "\n",
      "    accuracy                           0.98     10000\n",
      "   macro avg       0.98      0.98      0.98     10000\n",
      "weighted avg       0.98      0.98      0.98     10000\n",
      "\n"
     ]
    },
    {
     "data": {
      "text/plain": [
       "<sklearn.metrics._plot.confusion_matrix.ConfusionMatrixDisplay at 0x7f9128676550>"
      ]
     },
     "execution_count": 8,
     "metadata": {},
     "output_type": "execute_result"
    },
    {
     "data": {
      "image/png": "[encoded data removed]",
      "text/plain": [
       "<Figure size 640x480 with 2 Axes>"
      ]
     },
     "metadata": {},
     "output_type": "display_data"
    }
   ],
   "source": [
    "Y_pred = model.predict(x_test)\n",
    "Y_pred_classes = np.argmax(Y_pred,axis = 1)\n",
    "Y_true = np.argmax(y_test,axis = 1)\n",
    "\n",
    "print(classification_report(y_pred=Y_pred_classes, y_true=Y_true))\n",
    "cm = confusion_matrix(Y_true, Y_pred_classes)\n",
    "ConfusionMatrixDisplay(cm).plot(cmap='Blues', xticks_rotation='vertical', values_format='d')"
   ]
  },
  {
   "cell_type": "code",
   "execution_count": 9,
   "metadata": {},
   "outputs": [
    {
     "name": "stderr",
     "output_type": "stream",
     "text": [
      "WARNING:absl:Found untraced functions such as _jit_compiled_convolution_op, _jit_compiled_convolution_op, _jit_compiled_convolution_op, _jit_compiled_convolution_op, _jit_compiled_convolution_op while saving (showing 5 of 53). These functions will not be directly callable after loading.\n"
     ]
    },
    {
     "name": "stdout",
     "output_type": "stream",
     "text": [
      "INFO:tensorflow:Assets written to: models/resnet50-tf/assets\n"
     ]
    },
    {
     "name": "stderr",
     "output_type": "stream",
     "text": [
      "INFO:tensorflow:Assets written to: models/resnet50-tf/assets\n"
     ]
    }
   ],
   "source": [
    "model.save('models/resnet50-tf')"
   ]
  },
  {
   "cell_type": "code",
   "execution_count": null,
   "metadata": {},
   "outputs": [],
   "source": []
  }
 ],
 "metadata": {
  "kernelspec": {
   "display_name": "tf",
   "language": "python",
   "name": "python3"
  },
  "language_info": {
   "codemirror_mode": {
    "name": "ipython",
    "version": 3
   },
   "file_extension": ".py",
   "mimetype": "text/x-python",
   "name": "python",
   "nbconvert_exporter": "python",
   "pygments_lexer": "ipython3",
   "version": "3.11.3"
  },
  "orig_nbformat": 4
 },
 "nbformat": 4,
 "nbformat_minor": 2
}
