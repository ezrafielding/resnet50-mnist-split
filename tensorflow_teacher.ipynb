{
 "cells": [
  {
   "cell_type": "code",
   "execution_count": 1,
   "metadata": {},
   "outputs": [
    {
     "name": "stderr",
     "output_type": "stream",
     "text": [
      "2023-06-02 15:30:39.288447: I tensorflow/core/util/port.cc:110] oneDNN custom operations are on. You may see slightly different numerical results due to floating-point round-off errors from different computation orders. To turn them off, set the environment variable `TF_ENABLE_ONEDNN_OPTS=0`.\n",
      "2023-06-02 15:30:39.313909: I tensorflow/core/platform/cpu_feature_guard.cc:182] This TensorFlow binary is optimized to use available CPU instructions in performance-critical operations.\n",
      "To enable the following instructions: AVX2 AVX_VNNI FMA, in other operations, rebuild TensorFlow with the appropriate compiler flags.\n",
      "2023-06-02 15:30:39.710630: W tensorflow/compiler/tf2tensorrt/utils/py_utils.cc:38] TF-TRT Warning: Could not find TensorRT\n"
     ]
    }
   ],
   "source": [
    "import tensorflow as tf\n",
    "import numpy as np\n",
    "from sklearn.metrics import confusion_matrix, classification_report, ConfusionMatrixDisplay"
   ]
  },
  {
   "cell_type": "code",
   "execution_count": 2,
   "metadata": {},
   "outputs": [
    {
     "name": "stderr",
     "output_type": "stream",
     "text": [
      "2023-06-02 15:30:40.553495: I tensorflow/compiler/xla/stream_executor/cuda/cuda_gpu_executor.cc:996] successful NUMA node read from SysFS had negative value (-1), but there must be at least one NUMA node, so returning NUMA node zero. See more at https://github.com/torvalds/linux/blob/v6.0/Documentation/ABI/testing/sysfs-bus-pci#L344-L355\n",
      "2023-06-02 15:30:40.620801: I tensorflow/compiler/xla/stream_executor/cuda/cuda_gpu_executor.cc:996] successful NUMA node read from SysFS had negative value (-1), but there must be at least one NUMA node, so returning NUMA node zero. See more at https://github.com/torvalds/linux/blob/v6.0/Documentation/ABI/testing/sysfs-bus-pci#L344-L355\n",
      "2023-06-02 15:30:40.620938: I tensorflow/compiler/xla/stream_executor/cuda/cuda_gpu_executor.cc:996] successful NUMA node read from SysFS had negative value (-1), but there must be at least one NUMA node, so returning NUMA node zero. See more at https://github.com/torvalds/linux/blob/v6.0/Documentation/ABI/testing/sysfs-bus-pci#L344-L355\n",
      "2023-06-02 15:30:40.622309: I tensorflow/compiler/xla/stream_executor/cuda/cuda_gpu_executor.cc:996] successful NUMA node read from SysFS had negative value (-1), but there must be at least one NUMA node, so returning NUMA node zero. See more at https://github.com/torvalds/linux/blob/v6.0/Documentation/ABI/testing/sysfs-bus-pci#L344-L355\n",
      "2023-06-02 15:30:40.622394: I tensorflow/compiler/xla/stream_executor/cuda/cuda_gpu_executor.cc:996] successful NUMA node read from SysFS had negative value (-1), but there must be at least one NUMA node, so returning NUMA node zero. See more at https://github.com/torvalds/linux/blob/v6.0/Documentation/ABI/testing/sysfs-bus-pci#L344-L355\n",
      "2023-06-02 15:30:40.622442: I tensorflow/compiler/xla/stream_executor/cuda/cuda_gpu_executor.cc:996] successful NUMA node read from SysFS had negative value (-1), but there must be at least one NUMA node, so returning NUMA node zero. See more at https://github.com/torvalds/linux/blob/v6.0/Documentation/ABI/testing/sysfs-bus-pci#L344-L355\n",
      "2023-06-02 15:30:41.248568: I tensorflow/compiler/xla/stream_executor/cuda/cuda_gpu_executor.cc:996] successful NUMA node read from SysFS had negative value (-1), but there must be at least one NUMA node, so returning NUMA node zero. See more at https://github.com/torvalds/linux/blob/v6.0/Documentation/ABI/testing/sysfs-bus-pci#L344-L355\n",
      "2023-06-02 15:30:41.248671: I tensorflow/compiler/xla/stream_executor/cuda/cuda_gpu_executor.cc:996] successful NUMA node read from SysFS had negative value (-1), but there must be at least one NUMA node, so returning NUMA node zero. See more at https://github.com/torvalds/linux/blob/v6.0/Documentation/ABI/testing/sysfs-bus-pci#L344-L355\n",
      "2023-06-02 15:30:41.248721: I tensorflow/compiler/xla/stream_executor/cuda/cuda_gpu_executor.cc:996] successful NUMA node read from SysFS had negative value (-1), but there must be at least one NUMA node, so returning NUMA node zero. See more at https://github.com/torvalds/linux/blob/v6.0/Documentation/ABI/testing/sysfs-bus-pci#L344-L355\n",
      "2023-06-02 15:30:41.248769: I tensorflow/core/common_runtime/gpu/gpu_device.cc:1635] Created device /job:localhost/replica:0/task:0/device:GPU:0 with 22250 MB memory:  -> device: 0, name: NVIDIA GeForce RTX 3090, pci bus id: 0000:08:00.0, compute capability: 8.6\n"
     ]
    }
   ],
   "source": [
    "(x_train, y_train), (x_test, y_test) = tf.keras.datasets.mnist.load_data()\n",
    "input_shape = (28, 28, 1)\n",
    "\n",
    "x_train=x_train.reshape(x_train.shape[0], x_train.shape[1], x_train.shape[2], 1)\n",
    "x_train=x_train / 255.0\n",
    "x_test = x_test.reshape(x_test.shape[0], x_test.shape[1], x_test.shape[2], 1)\n",
    "x_test=x_test/255.0\n",
    "\n",
    "y_train = tf.one_hot(y_train.astype(np.int32), depth=10)\n",
    "y_test = tf.one_hot(y_test.astype(np.int32), depth=10)"
   ]
  },
  {
   "cell_type": "code",
   "execution_count": 3,
   "metadata": {},
   "outputs": [],
   "source": [
    "resnet = tf.keras.applications.resnet50.ResNet50(\n",
    "    include_top=True,\n",
    "    weights=None,\n",
    "    input_tensor=None,\n",
    "    input_shape=(32,32,1),\n",
    "    pooling=None,\n",
    "    classes=10,\n",
    ")"
   ]
  },
  {
   "cell_type": "code",
   "execution_count": 4,
   "metadata": {},
   "outputs": [],
   "source": [
    "cfg = resnet.get_config()\n",
    "cfg['layers'][0]['config']['batch_input_shape'] = (None, 28, 28, 1)\n",
    "model = tf.keras.Model.from_config(cfg)"
   ]
  },
  {
   "cell_type": "code",
   "execution_count": 5,
   "metadata": {},
   "outputs": [],
   "source": [
    "model.compile(\n",
    "    optimizer=tf.keras.optimizers.SGD(learning_rate=0.001, momentum=0.9),\n",
    "    loss='categorical_crossentropy',\n",
    "    metrics=[\"accuracy\"]\n",
    ")"
   ]
  },
  {
   "cell_type": "code",
   "execution_count": 6,
   "metadata": {},
   "outputs": [
    {
     "name": "stdout",
     "output_type": "stream",
     "text": [
      "Epoch 1/20\n"
     ]
    },
    {
     "name": "stderr",
     "output_type": "stream",
     "text": [
      "2023-06-02 15:30:47.582918: I tensorflow/compiler/xla/stream_executor/cuda/cuda_dnn.cc:424] Loaded cuDNN version 8600\n",
      "2023-06-02 15:30:48.371116: I tensorflow/tsl/platform/default/subprocess.cc:304] Start cannot spawn child process: No such file or directory\n",
      "2023-06-02 15:30:48.892307: I tensorflow/compiler/xla/stream_executor/cuda/cuda_blas.cc:637] TensorFloat-32 will be used for the matrix multiplication. This will only be logged once.\n",
      "2023-06-02 15:30:48.899454: I tensorflow/compiler/xla/service/service.cc:169] XLA service 0x7f436de2f310 initialized for platform CUDA (this does not guarantee that XLA will be used). Devices:\n",
      "2023-06-02 15:30:48.899465: I tensorflow/compiler/xla/service/service.cc:177]   StreamExecutor device (0): NVIDIA GeForce RTX 3090, Compute Capability 8.6\n",
      "2023-06-02 15:30:48.970569: I tensorflow/tsl/platform/default/subprocess.cc:304] Start cannot spawn child process: No such file or directory\n",
      "2023-06-02 15:30:49.006354: I ./tensorflow/compiler/jit/device_compiler.h:180] Compiled cluster using XLA!  This line is logged at most once for the lifetime of the process.\n"
     ]
    },
    {
     "name": "stdout",
     "output_type": "stream",
     "text": [
      "422/422 [==============================] - 20s 23ms/step - loss: 0.5060 - accuracy: 0.8510 - val_loss: 0.1726 - val_accuracy: 0.9480\n",
      "Epoch 2/20\n",
      "422/422 [==============================] - 7s 18ms/step - loss: 0.1069 - accuracy: 0.9667 - val_loss: 0.0806 - val_accuracy: 0.9763\n",
      "Epoch 3/20\n",
      "422/422 [==============================] - 7s 18ms/step - loss: 0.0617 - accuracy: 0.9800 - val_loss: 0.0742 - val_accuracy: 0.9782\n",
      "Epoch 4/20\n",
      "422/422 [==============================] - 7s 18ms/step - loss: 0.0355 - accuracy: 0.9882 - val_loss: 0.0636 - val_accuracy: 0.9812\n",
      "Epoch 5/20\n",
      "422/422 [==============================] - 8s 18ms/step - loss: 0.0251 - accuracy: 0.9914 - val_loss: 0.0699 - val_accuracy: 0.9817\n",
      "Epoch 6/20\n",
      "422/422 [==============================] - 8s 18ms/step - loss: 0.0168 - accuracy: 0.9944 - val_loss: 0.0558 - val_accuracy: 0.9842\n",
      "Epoch 7/20\n",
      "422/422 [==============================] - 8s 18ms/step - loss: 0.0114 - accuracy: 0.9965 - val_loss: 0.0551 - val_accuracy: 0.9858\n",
      "Epoch 8/20\n",
      "422/422 [==============================] - 8s 18ms/step - loss: 0.0078 - accuracy: 0.9977 - val_loss: 0.0591 - val_accuracy: 0.9862\n",
      "Epoch 9/20\n",
      "422/422 [==============================] - 8s 18ms/step - loss: 0.0050 - accuracy: 0.9986 - val_loss: 0.0599 - val_accuracy: 0.9870\n",
      "Epoch 10/20\n",
      "422/422 [==============================] - 8s 18ms/step - loss: 0.0052 - accuracy: 0.9985 - val_loss: 0.0598 - val_accuracy: 0.9868\n",
      "Epoch 11/20\n",
      "422/422 [==============================] - 8s 18ms/step - loss: 0.0031 - accuracy: 0.9992 - val_loss: 0.0619 - val_accuracy: 0.9865\n",
      "Epoch 12/20\n",
      "422/422 [==============================] - 8s 18ms/step - loss: 0.0026 - accuracy: 0.9992 - val_loss: 0.0616 - val_accuracy: 0.9865\n",
      "Epoch 13/20\n",
      "422/422 [==============================] - 8s 18ms/step - loss: 0.0033 - accuracy: 0.9990 - val_loss: 0.0573 - val_accuracy: 0.9885\n",
      "Epoch 14/20\n",
      "422/422 [==============================] - 8s 18ms/step - loss: 0.0026 - accuracy: 0.9993 - val_loss: 0.0586 - val_accuracy: 0.9870\n",
      "Epoch 15/20\n",
      "422/422 [==============================] - 8s 18ms/step - loss: 0.0030 - accuracy: 0.9993 - val_loss: 0.0592 - val_accuracy: 0.9877\n",
      "Epoch 16/20\n",
      "422/422 [==============================] - 8s 18ms/step - loss: 0.0017 - accuracy: 0.9996 - val_loss: 0.0611 - val_accuracy: 0.9867\n",
      "Epoch 17/20\n",
      "422/422 [==============================] - 8s 18ms/step - loss: 0.0016 - accuracy: 0.9996 - val_loss: 0.0608 - val_accuracy: 0.9873\n",
      "Epoch 18/20\n",
      "422/422 [==============================] - 8s 18ms/step - loss: 0.0011 - accuracy: 0.9997 - val_loss: 0.0685 - val_accuracy: 0.9875\n",
      "Epoch 19/20\n",
      "422/422 [==============================] - 8s 18ms/step - loss: 0.0023 - accuracy: 0.9993 - val_loss: 0.0632 - val_accuracy: 0.9860\n",
      "Epoch 20/20\n",
      "422/422 [==============================] - 8s 18ms/step - loss: 0.0014 - accuracy: 0.9996 - val_loss: 0.0626 - val_accuracy: 0.9867\n"
     ]
    }
   ],
   "source": [
    "history = model.fit(x_train, y_train,\n",
    "                    batch_size=128,\n",
    "                    epochs=20,\n",
    "                    validation_split=0.1,\n",
    ")"
   ]
  },
  {
   "cell_type": "code",
   "execution_count": 7,
   "metadata": {},
   "outputs": [
    {
     "name": "stdout",
     "output_type": "stream",
     "text": [
      "313/313 [==============================] - 2s 4ms/step - loss: 0.0666 - accuracy: 0.9845\n",
      "Loss:  0.06659268587827682  Accuracy:  0.984499990940094\n"
     ]
    }
   ],
   "source": [
    "test_loss, test_acc = model.evaluate(x_test, y_test)\n",
    "print(\"Loss: \", test_loss,\" Accuracy: \", test_acc)"
   ]
  },
  {
   "cell_type": "code",
   "execution_count": 8,
   "metadata": {},
   "outputs": [
    {
     "name": "stdout",
     "output_type": "stream",
     "text": [
      "313/313 [==============================] - 1s 3ms/step\n",
      "              precision    recall  f1-score   support\n",
      "\n",
      "           0       0.99      0.99      0.99       980\n",
      "           1       0.99      1.00      0.99      1135\n",
      "           2       0.98      0.98      0.98      1032\n",
      "           3       0.98      0.98      0.98      1010\n",
      "           4       0.99      0.98      0.99       982\n",
      "           5       0.98      0.98      0.98       892\n",
      "           6       0.99      0.99      0.99       958\n",
      "           7       0.98      0.98      0.98      1028\n",
      "           8       0.98      0.98      0.98       974\n",
      "           9       0.98      0.97      0.98      1009\n",
      "\n",
      "    accuracy                           0.98     10000\n",
      "   macro avg       0.98      0.98      0.98     10000\n",
      "weighted avg       0.98      0.98      0.98     10000\n",
      "\n"
     ]
    },
    {
     "data": {
      "text/plain": [
       "<sklearn.metrics._plot.confusion_matrix.ConfusionMatrixDisplay at 0x7f4b6c2b2190>"
      ]
     },
     "execution_count": 8,
     "metadata": {},
     "output_type": "execute_result"
    },
    {
     "data": {
      "image/png": "[encoded data removed]",
      "text/plain": [
       "<Figure size 640x480 with 2 Axes>"
      ]
     },
     "metadata": {},
     "output_type": "display_data"
    }
   ],
   "source": [
    "Y_pred = model.predict(x_test)\n",
    "Y_pred_classes = np.argmax(Y_pred,axis = 1)\n",
    "Y_true = np.argmax(y_test,axis = 1)\n",
    "\n",
    "print(classification_report(y_pred=Y_pred_classes, y_true=Y_true))\n",
    "cm = confusion_matrix(Y_true, Y_pred_classes)\n",
    "ConfusionMatrixDisplay(cm).plot(cmap='Blues', xticks_rotation='vertical', values_format='d')"
   ]
  },
  {
   "cell_type": "code",
   "execution_count": 9,
   "metadata": {},
   "outputs": [],
   "source": [
    "model.save('models/resnet50-tf.h5')"
   ]
  },
  {
   "cell_type": "code",
   "execution_count": null,
   "metadata": {},
   "outputs": [],
   "source": []
  }
 ],
 "metadata": {
  "kernelspec": {
   "display_name": "tf",
   "language": "python",
   "name": "python3"
  },
  "language_info": {
   "codemirror_mode": {
    "name": "ipython",
    "version": 3
   },
   "file_extension": ".py",
   "mimetype": "text/x-python",
   "name": "python",
   "nbconvert_exporter": "python",
   "pygments_lexer": "ipython3",
   "version": "3.11.3"
  },
  "orig_nbformat": 4
 },
 "nbformat": 4,
 "nbformat_minor": 2
}
