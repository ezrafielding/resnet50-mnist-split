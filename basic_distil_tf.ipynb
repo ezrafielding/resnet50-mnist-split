{
 "cells": [
  {
   "cell_type": "code",
   "execution_count": 1,
   "metadata": {},
   "outputs": [
    {
     "name": "stderr",
     "output_type": "stream",
     "text": [
      "2023-06-02 17:53:55.688758: I tensorflow/core/util/port.cc:110] oneDNN custom operations are on. You may see slightly different numerical results due to floating-point round-off errors from different computation orders. To turn them off, set the environment variable `TF_ENABLE_ONEDNN_OPTS=0`.\n",
      "2023-06-02 17:53:55.714695: I tensorflow/core/platform/cpu_feature_guard.cc:182] This TensorFlow binary is optimized to use available CPU instructions in performance-critical operations.\n",
      "To enable the following instructions: AVX2 AVX_VNNI FMA, in other operations, rebuild TensorFlow with the appropriate compiler flags.\n",
      "2023-06-02 17:53:56.116019: W tensorflow/compiler/tf2tensorrt/utils/py_utils.cc:38] TF-TRT Warning: Could not find TensorRT\n"
     ]
    }
   ],
   "source": [
    "import tensorflow as tf\n",
    "import tensorflow_compression as tfc\n",
    "from tensorflow import keras\n",
    "from tensorflow.keras import layers\n",
    "import numpy as np\n",
    "from sklearn.metrics import confusion_matrix, classification_report, ConfusionMatrixDisplay"
   ]
  },
  {
   "cell_type": "code",
   "execution_count": 2,
   "metadata": {},
   "outputs": [],
   "source": [
    "class Distiller(keras.Model):\n",
    "    def __init__(self, student, teacher):\n",
    "        super().__init__()\n",
    "        self.teacher = teacher\n",
    "        self.student = student\n",
    "\n",
    "    def compile(\n",
    "        self,\n",
    "        optimizer,\n",
    "        metrics,\n",
    "        student_loss_fn,\n",
    "        distillation_loss_fn,\n",
    "        alpha=0.1,\n",
    "        temperature=3,\n",
    "    ):\n",
    "        \"\"\" Configure the distiller.\n",
    "\n",
    "        Args:\n",
    "            optimizer: Keras optimizer for the student weights\n",
    "            metrics: Keras metrics for evaluation\n",
    "            student_loss_fn: Loss function of difference between student\n",
    "                predictions and ground-truth\n",
    "            distillation_loss_fn: Loss function of difference between soft\n",
    "                student predictions and soft teacher predictions\n",
    "            alpha: weight to student_loss_fn and 1-alpha to distillation_loss_fn\n",
    "            temperature: Temperature for softening probability distributions.\n",
    "                Larger temperature gives softer distributions.\n",
    "        \"\"\"\n",
    "        super().compile(optimizer=optimizer, metrics=metrics)\n",
    "        self.student_loss_fn = student_loss_fn\n",
    "        self.distillation_loss_fn = distillation_loss_fn\n",
    "        self.alpha = alpha\n",
    "        self.temperature = temperature\n",
    "\n",
    "    def train_step(self, data):\n",
    "        # Unpack data\n",
    "        x, y = data\n",
    "\n",
    "        # Forward pass of teacher\n",
    "        teacher_predictions = self.teacher(x, training=False)\n",
    "\n",
    "        with tf.GradientTape() as tape:\n",
    "            # Forward pass of student\n",
    "            student_predictions = self.student(x, training=True)\n",
    "\n",
    "            # Compute losses\n",
    "            student_loss = self.student_loss_fn(y, student_predictions)\n",
    "\n",
    "            # Compute scaled distillation loss from https://arxiv.org/abs/1503.02531\n",
    "            # The magnitudes of the gradients produced by the soft targets scale\n",
    "            # as 1/T^2, multiply them by T^2 when using both hard and soft targets.\n",
    "            distillation_loss = (\n",
    "                self.distillation_loss_fn(\n",
    "                    tf.nn.softmax(teacher_predictions / self.temperature, axis=1),\n",
    "                    tf.nn.softmax(student_predictions / self.temperature, axis=1),\n",
    "                )\n",
    "                * self.temperature**2\n",
    "            )\n",
    "\n",
    "            loss = self.alpha * student_loss + (1 - self.alpha) * distillation_loss\n",
    "\n",
    "        # Compute gradients\n",
    "        trainable_vars = self.student.trainable_variables\n",
    "        gradients = tape.gradient(loss, trainable_vars)\n",
    "\n",
    "        # Update weights\n",
    "        self.optimizer.apply_gradients(zip(gradients, trainable_vars))\n",
    "\n",
    "        # Update the metrics configured in `compile()`.\n",
    "        self.compiled_metrics.update_state(y, student_predictions)\n",
    "\n",
    "        # Return a dict of performance\n",
    "        results = {m.name: m.result() for m in self.metrics}\n",
    "        results.update(\n",
    "            {\"student_loss\": student_loss, \"distillation_loss\": distillation_loss}\n",
    "        )\n",
    "        return results\n",
    "\n",
    "    def test_step(self, data):\n",
    "        # Unpack the data\n",
    "        x, y = data\n",
    "\n",
    "        # Compute predictions\n",
    "        y_prediction = self.student(x, training=False)\n",
    "\n",
    "        # Calculate the loss\n",
    "        student_loss = self.student_loss_fn(y, y_prediction)\n",
    "\n",
    "        # Update the metrics.\n",
    "        self.compiled_metrics.update_state(y, y_prediction)\n",
    "\n",
    "        # Return a dict of performance\n",
    "        results = {m.name: m.result() for m in self.metrics}\n",
    "        results.update({\"student_loss\": student_loss})\n",
    "        return results"
   ]
  },
  {
   "cell_type": "code",
   "execution_count": 3,
   "metadata": {},
   "outputs": [],
   "source": [
    "class BottleNeck(keras.Model):\n",
    "    def __init__(self, input_shape=(224,224,3), num_bottleneck_channels=24, num_target_channels=256,\n",
    "                 encoder_channel_sizes=None, decoder_channel_sizes=None):\n",
    "        super(BottleNeck, self).__init__()\n",
    "        if encoder_channel_sizes is None:\n",
    "            encoder_channel_sizes = \\\n",
    "                [input_shape[2], num_bottleneck_channels * 4, num_bottleneck_channels * 2, num_bottleneck_channels]\n",
    "\n",
    "        if decoder_channel_sizes is None:\n",
    "            decoder_channel_sizes = \\\n",
    "                [encoder_channel_sizes[-1], num_target_channels * 2, num_target_channels, num_target_channels]\n",
    "        self.encoder = tf.keras.Sequential ([\n",
    "            layers.InputLayer(input_shape=input_shape),\n",
    "            layers.Conv2D(filters=encoder_channel_sizes[1],\n",
    "                          kernel_size=5, strides=2, padding='same', use_bias=False),\n",
    "            tfc.layers.GDN(),\n",
    "            layers.Conv2D(filters=encoder_channel_sizes[2],\n",
    "                          kernel_size=5, strides=2, padding='same', use_bias=False),\n",
    "            tfc.layers.GDN(),\n",
    "            layers.Conv2D(filters=encoder_channel_sizes[3],\n",
    "                          kernel_size=2, strides=1, padding='same', use_bias=False)\n",
    "        ])\n",
    "        self.decoder = tf.keras.Sequential ([\n",
    "            layers.Conv2D(input_shape=(7,7,24),filters=decoder_channel_sizes[1],\n",
    "                          kernel_size=2, strides=1, padding='same', use_bias=False),\n",
    "            tfc.layers.GDN(inverse=True),\n",
    "            layers.Conv2D(filters=decoder_channel_sizes[2],\n",
    "                          kernel_size=2, strides=1, padding='same', use_bias=False),\n",
    "            tfc.layers.GDN(inverse=True),\n",
    "            layers.Conv2D(filters=decoder_channel_sizes[3],\n",
    "                          kernel_size=2, strides=1, padding='same', use_bias=False),\n",
    "        ])\n",
    "\n",
    "    def call(self, x):\n",
    "        encoded = self.encoder(x)\n",
    "        decoded = self.decoder(encoded)\n",
    "        return decoded"
   ]
  },
  {
   "cell_type": "code",
   "execution_count": 4,
   "metadata": {},
   "outputs": [
    {
     "name": "stderr",
     "output_type": "stream",
     "text": [
      "2023-06-02 17:53:57.153090: I tensorflow/compiler/xla/stream_executor/cuda/cuda_gpu_executor.cc:996] successful NUMA node read from SysFS had negative value (-1), but there must be at least one NUMA node, so returning NUMA node zero. See more at https://github.com/torvalds/linux/blob/v6.0/Documentation/ABI/testing/sysfs-bus-pci#L344-L355\n",
      "2023-06-02 17:53:57.169205: I tensorflow/compiler/xla/stream_executor/cuda/cuda_gpu_executor.cc:996] successful NUMA node read from SysFS had negative value (-1), but there must be at least one NUMA node, so returning NUMA node zero. See more at https://github.com/torvalds/linux/blob/v6.0/Documentation/ABI/testing/sysfs-bus-pci#L344-L355\n",
      "2023-06-02 17:53:57.169334: I tensorflow/compiler/xla/stream_executor/cuda/cuda_gpu_executor.cc:996] successful NUMA node read from SysFS had negative value (-1), but there must be at least one NUMA node, so returning NUMA node zero. See more at https://github.com/torvalds/linux/blob/v6.0/Documentation/ABI/testing/sysfs-bus-pci#L344-L355\n",
      "2023-06-02 17:53:57.170244: I tensorflow/compiler/xla/stream_executor/cuda/cuda_gpu_executor.cc:996] successful NUMA node read from SysFS had negative value (-1), but there must be at least one NUMA node, so returning NUMA node zero. See more at https://github.com/torvalds/linux/blob/v6.0/Documentation/ABI/testing/sysfs-bus-pci#L344-L355\n",
      "2023-06-02 17:53:57.170324: I tensorflow/compiler/xla/stream_executor/cuda/cuda_gpu_executor.cc:996] successful NUMA node read from SysFS had negative value (-1), but there must be at least one NUMA node, so returning NUMA node zero. See more at https://github.com/torvalds/linux/blob/v6.0/Documentation/ABI/testing/sysfs-bus-pci#L344-L355\n",
      "2023-06-02 17:53:57.170371: I tensorflow/compiler/xla/stream_executor/cuda/cuda_gpu_executor.cc:996] successful NUMA node read from SysFS had negative value (-1), but there must be at least one NUMA node, so returning NUMA node zero. See more at https://github.com/torvalds/linux/blob/v6.0/Documentation/ABI/testing/sysfs-bus-pci#L344-L355\n",
      "2023-06-02 17:53:57.660131: I tensorflow/compiler/xla/stream_executor/cuda/cuda_gpu_executor.cc:996] successful NUMA node read from SysFS had negative value (-1), but there must be at least one NUMA node, so returning NUMA node zero. See more at https://github.com/torvalds/linux/blob/v6.0/Documentation/ABI/testing/sysfs-bus-pci#L344-L355\n",
      "2023-06-02 17:53:57.660236: I tensorflow/compiler/xla/stream_executor/cuda/cuda_gpu_executor.cc:996] successful NUMA node read from SysFS had negative value (-1), but there must be at least one NUMA node, so returning NUMA node zero. See more at https://github.com/torvalds/linux/blob/v6.0/Documentation/ABI/testing/sysfs-bus-pci#L344-L355\n",
      "2023-06-02 17:53:57.660289: I tensorflow/compiler/xla/stream_executor/cuda/cuda_gpu_executor.cc:996] successful NUMA node read from SysFS had negative value (-1), but there must be at least one NUMA node, so returning NUMA node zero. See more at https://github.com/torvalds/linux/blob/v6.0/Documentation/ABI/testing/sysfs-bus-pci#L344-L355\n",
      "2023-06-02 17:53:57.660337: I tensorflow/core/common_runtime/gpu/gpu_device.cc:1635] Created device /job:localhost/replica:0/task:0/device:GPU:0 with 22250 MB memory:  -> device: 0, name: NVIDIA GeForce RTX 3090, pci bus id: 0000:08:00.0, compute capability: 8.6\n"
     ]
    }
   ],
   "source": [
    "(x_train, y_train), (x_test, y_test) = tf.keras.datasets.mnist.load_data()\n",
    "input_shape = (28, 28, 1)\n",
    "\n",
    "x_train=x_train.reshape(x_train.shape[0], x_train.shape[1], x_train.shape[2], 1)\n",
    "x_train=x_train / 255.0\n",
    "x_test = x_test.reshape(x_test.shape[0], x_test.shape[1], x_test.shape[2], 1)\n",
    "x_test=x_test/255.0\n",
    "\n",
    "y_train = tf.one_hot(y_train.astype(np.int32), depth=10)\n",
    "y_test = tf.one_hot(y_test.astype(np.int32), depth=10)"
   ]
  },
  {
   "cell_type": "code",
   "execution_count": 5,
   "metadata": {},
   "outputs": [],
   "source": [
    "teacher = keras.models.load_model('models/resnet50-tf.h5')"
   ]
  },
  {
   "cell_type": "code",
   "execution_count": 6,
   "metadata": {},
   "outputs": [],
   "source": [
    "bottle_neck = BottleNeck(input_shape=(28,28,1))\n",
    "truncated_teacher = keras.Model(inputs = teacher.layers[19].input, outputs = teacher.layers[-1].output)\n",
    "truncated_teacher.trainable = False\n",
    "student = keras.models.Sequential([\n",
    "    bottle_neck,\n",
    "    truncated_teacher\n",
    "])"
   ]
  },
  {
   "cell_type": "code",
   "execution_count": 7,
   "metadata": {},
   "outputs": [
    {
     "name": "stdout",
     "output_type": "stream",
     "text": [
      "Epoch 1/20\n"
     ]
    },
    {
     "name": "stderr",
     "output_type": "stream",
     "text": [
      "/home/ezraf/miniconda3/envs/tf/lib/python3.11/site-packages/keras/backend.py:5561: UserWarning: \"`categorical_crossentropy` received `from_logits=True`, but the `output` argument was produced by a Softmax activation and thus does not represent logits. Was this intended?\n",
      "  output, from_logits = _get_logits(\n",
      "2023-06-02 17:54:03.659851: I tensorflow/compiler/xla/stream_executor/cuda/cuda_dnn.cc:424] Loaded cuDNN version 8600\n",
      "2023-06-02 17:54:04.183344: I tensorflow/tsl/platform/default/subprocess.cc:304] Start cannot spawn child process: No such file or directory\n",
      "2023-06-02 17:54:04.945855: I tensorflow/compiler/xla/stream_executor/cuda/cuda_blas.cc:637] TensorFloat-32 will be used for the matrix multiplication. This will only be logged once.\n",
      "2023-06-02 17:54:05.469441: I tensorflow/compiler/xla/service/service.cc:169] XLA service 0x7f4ef73b9500 initialized for platform CUDA (this does not guarantee that XLA will be used). Devices:\n",
      "2023-06-02 17:54:05.469464: I tensorflow/compiler/xla/service/service.cc:177]   StreamExecutor device (0): NVIDIA GeForce RTX 3090, Compute Capability 8.6\n",
      "2023-06-02 17:54:05.479522: I tensorflow/tsl/platform/default/subprocess.cc:304] Start cannot spawn child process: No such file or directory\n",
      "2023-06-02 17:54:05.504413: I ./tensorflow/compiler/jit/device_compiler.h:180] Compiled cluster using XLA!  This line is logged at most once for the lifetime of the process.\n"
     ]
    },
    {
     "name": "stdout",
     "output_type": "stream",
     "text": [
      "1875/1875 [==============================] - 33s 14ms/step - accuracy: 0.7558 - student_loss: 0.9326 - distillation_loss: 0.0194\n",
      "Epoch 2/20\n",
      "1875/1875 [==============================] - 27s 14ms/step - accuracy: 0.9181 - student_loss: 0.3055 - distillation_loss: 0.0070\n",
      "Epoch 3/20\n",
      "1875/1875 [==============================] - 27s 14ms/step - accuracy: 0.9352 - student_loss: 0.2306 - distillation_loss: 0.0053\n",
      "Epoch 4/20\n",
      "1875/1875 [==============================] - 27s 14ms/step - accuracy: 0.9452 - student_loss: 0.1947 - distillation_loss: 0.0044\n",
      "Epoch 5/20\n",
      "1875/1875 [==============================] - 27s 14ms/step - accuracy: 0.9521 - student_loss: 0.1719 - distillation_loss: 0.0039\n",
      "Epoch 6/20\n",
      "1875/1875 [==============================] - 27s 14ms/step - accuracy: 0.9572 - student_loss: 0.1548 - distillation_loss: 0.0035\n",
      "Epoch 7/20\n",
      "1875/1875 [==============================] - 27s 14ms/step - accuracy: 0.9609 - student_loss: 0.1418 - distillation_loss: 0.0032\n",
      "Epoch 8/20\n",
      "1875/1875 [==============================] - 27s 14ms/step - accuracy: 0.9639 - student_loss: 0.1316 - distillation_loss: 0.0030\n",
      "Epoch 9/20\n",
      "1875/1875 [==============================] - 27s 14ms/step - accuracy: 0.9664 - student_loss: 0.1229 - distillation_loss: 0.0028\n",
      "Epoch 10/20\n",
      "1875/1875 [==============================] - 27s 14ms/step - accuracy: 0.9678 - student_loss: 0.1165 - distillation_loss: 0.0026\n",
      "Epoch 11/20\n",
      "1875/1875 [==============================] - 27s 14ms/step - accuracy: 0.9707 - student_loss: 0.1090 - distillation_loss: 0.0024\n",
      "Epoch 12/20\n",
      "1875/1875 [==============================] - 27s 14ms/step - accuracy: 0.9714 - student_loss: 0.1041 - distillation_loss: 0.0023\n",
      "Epoch 13/20\n",
      "1875/1875 [==============================] - 27s 14ms/step - accuracy: 0.9734 - student_loss: 0.0999 - distillation_loss: 0.0022\n",
      "Epoch 14/20\n",
      "1875/1875 [==============================] - 27s 14ms/step - accuracy: 0.9753 - student_loss: 0.0953 - distillation_loss: 0.0021\n",
      "Epoch 15/20\n",
      "1875/1875 [==============================] - 27s 14ms/step - accuracy: 0.9759 - student_loss: 0.0924 - distillation_loss: 0.0021\n",
      "Epoch 16/20\n",
      "1875/1875 [==============================] - 27s 14ms/step - accuracy: 0.9778 - student_loss: 0.0876 - distillation_loss: 0.0019\n",
      "Epoch 17/20\n",
      "1875/1875 [==============================] - 27s 14ms/step - accuracy: 0.9784 - student_loss: 0.0840 - distillation_loss: 0.0019\n",
      "Epoch 18/20\n",
      "1875/1875 [==============================] - 27s 14ms/step - accuracy: 0.9797 - student_loss: 0.0810 - distillation_loss: 0.0018\n",
      "Epoch 19/20\n",
      "1875/1875 [==============================] - 27s 14ms/step - accuracy: 0.9801 - student_loss: 0.0785 - distillation_loss: 0.0017\n",
      "Epoch 20/20\n",
      "1875/1875 [==============================] - 27s 14ms/step - accuracy: 0.9816 - student_loss: 0.0758 - distillation_loss: 0.0016\n"
     ]
    },
    {
     "data": {
      "text/plain": [
       "<keras.callbacks.History at 0x7f57a174fd90>"
      ]
     },
     "execution_count": 7,
     "metadata": {},
     "output_type": "execute_result"
    }
   ],
   "source": [
    "distiller = Distiller(student=student, teacher=teacher)\n",
    "distiller.compile(\n",
    "    optimizer=tf.keras.optimizers.SGD(learning_rate=0.001, momentum=0.9),\n",
    "    metrics=[\"accuracy\"],\n",
    "    student_loss_fn=keras.losses.CategoricalCrossentropy(from_logits=True),\n",
    "    distillation_loss_fn=keras.losses.KLDivergence(),\n",
    "    alpha=0.1,\n",
    "    temperature=10,\n",
    ")\n",
    "\n",
    "# Distill teacher to student\n",
    "distiller.fit(x_train, y_train, epochs=20)"
   ]
  },
  {
   "cell_type": "code",
   "execution_count": 8,
   "metadata": {},
   "outputs": [
    {
     "name": "stdout",
     "output_type": "stream",
     "text": [
      "313/313 [==============================] - 3s 6ms/step - accuracy: 0.9709 - student_loss: 0.0963\n"
     ]
    },
    {
     "data": {
      "text/plain": [
       "[0.9708999991416931, 0.009923894889652729]"
      ]
     },
     "execution_count": 8,
     "metadata": {},
     "output_type": "execute_result"
    }
   ],
   "source": [
    "distiller.evaluate(x_test, y_test)"
   ]
  },
  {
   "cell_type": "code",
   "execution_count": 9,
   "metadata": {},
   "outputs": [
    {
     "name": "stdout",
     "output_type": "stream",
     "text": [
      "Model: \"sequential_2\"\n",
      "_________________________________________________________________\n",
      " Layer (type)                Output Shape              Param #   \n",
      "=================================================================\n",
      " bottle_neck (BottleNeck)    (None, 7, 7, 256)         1297904   \n",
      "                                                                 \n",
      " model (Functional)          (None, 10)                23521546  \n",
      "                                                                 \n",
      "=================================================================\n",
      "Total params: 24,819,450\n",
      "Trainable params: 1,297,904\n",
      "Non-trainable params: 23,521,546\n",
      "_________________________________________________________________\n"
     ]
    }
   ],
   "source": [
    "distiller.student.summary()"
   ]
  },
  {
   "cell_type": "code",
   "execution_count": 10,
   "metadata": {},
   "outputs": [
    {
     "name": "stdout",
     "output_type": "stream",
     "text": [
      "313/313 [==============================] - 1s 3ms/step\n",
      "              precision    recall  f1-score   support\n",
      "\n",
      "           0       0.97      0.99      0.98       980\n",
      "           1       0.98      0.99      0.99      1135\n",
      "           2       0.97      0.97      0.97      1032\n",
      "           3       0.96      0.97      0.96      1010\n",
      "           4       0.97      0.97      0.97       982\n",
      "           5       0.97      0.96      0.96       892\n",
      "           6       0.98      0.98      0.98       958\n",
      "           7       0.97      0.96      0.97      1028\n",
      "           8       0.98      0.96      0.97       974\n",
      "           9       0.96      0.95      0.96      1009\n",
      "\n",
      "    accuracy                           0.97     10000\n",
      "   macro avg       0.97      0.97      0.97     10000\n",
      "weighted avg       0.97      0.97      0.97     10000\n",
      "\n"
     ]
    },
    {
     "data": {
      "text/plain": [
       "<sklearn.metrics._plot.confusion_matrix.ConfusionMatrixDisplay at 0x7f569e5cf450>"
      ]
     },
     "execution_count": 10,
     "metadata": {},
     "output_type": "execute_result"
    },
    {
     "data": {
      "image/png": "[encoded data removed]",
      "text/plain": [
       "<Figure size 640x480 with 2 Axes>"
      ]
     },
     "metadata": {},
     "output_type": "display_data"
    }
   ],
   "source": [
    "Y_pred = distiller.student.predict(x_test)\n",
    "Y_pred_classes = np.argmax(Y_pred,axis = 1)\n",
    "Y_true = np.argmax(y_test,axis = 1)\n",
    "\n",
    "print(classification_report(y_pred=Y_pred_classes, y_true=Y_true))\n",
    "cm = confusion_matrix(Y_true, Y_pred_classes)\n",
    "ConfusionMatrixDisplay(cm).plot(cmap='Blues', xticks_rotation='vertical', values_format='d')"
   ]
  },
  {
   "cell_type": "code",
   "execution_count": 11,
   "metadata": {},
   "outputs": [
    {
     "name": "stdout",
     "output_type": "stream",
     "text": [
      "WARNING:tensorflow:Compiled the loaded model, but the compiled metrics have yet to be built. `model.compile_metrics` will be empty until you train or evaluate the model.\n"
     ]
    }
   ],
   "source": [
    "distiller.student.get_layer('bottle_neck').encoder.save('models/resnet50-encoder.h5')"
   ]
  },
  {
   "cell_type": "code",
   "execution_count": 12,
   "metadata": {},
   "outputs": [
    {
     "name": "stdout",
     "output_type": "stream",
     "text": [
      "WARNING:tensorflow:Compiled the loaded model, but the compiled metrics have yet to be built. `model.compile_metrics` will be empty until you train or evaluate the model.\n"
     ]
    }
   ],
   "source": [
    "tail = student = keras.models.Sequential([\n",
    "    distiller.student.get_layer('bottle_neck').decoder,\n",
    "    distiller.student.get_layer('model')\n",
    "])\n",
    "tail.save('models/resnet50-tail.h5')"
   ]
  },
  {
   "cell_type": "code",
   "execution_count": null,
   "metadata": {},
   "outputs": [],
   "source": []
  }
 ],
 "metadata": {
  "kernelspec": {
   "display_name": "tf",
   "language": "python",
   "name": "python3"
  },
  "language_info": {
   "codemirror_mode": {
    "name": "ipython",
    "version": 3
   },
   "file_extension": ".py",
   "mimetype": "text/x-python",
   "name": "python",
   "nbconvert_exporter": "python",
   "pygments_lexer": "ipython3",
   "version": "3.11.3"
  },
  "orig_nbformat": 4
 },
 "nbformat": 4,
 "nbformat_minor": 2
}
