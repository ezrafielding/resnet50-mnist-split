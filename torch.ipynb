{
 "cells": [
  {
   "cell_type": "code",
   "execution_count": 1,
   "metadata": {},
   "outputs": [],
   "source": [
    "import torch\n",
    "import torchvision as tv\n",
    "import time\n",
    "import matplotlib.pyplot as plt\n",
    "from sklearn.metrics import confusion_matrix, classification_report, ConfusionMatrixDisplay"
   ]
  },
  {
   "cell_type": "code",
   "execution_count": 2,
   "metadata": {},
   "outputs": [],
   "source": [
    "transform = tv.transforms.Compose([tv.transforms.ToTensor(), tv.transforms.Normalize((0.5,),(0.5,)),])"
   ]
  },
  {
   "cell_type": "code",
   "execution_count": 3,
   "metadata": {},
   "outputs": [],
   "source": [
    "train = tv.datasets.MNIST('./data/torch/', download=True, train=True, transform=transform)\n",
    "val = tv.datasets.MNIST('./data/torch/', download=True, train=False, transform=transform)\n",
    "trainLoader = torch.utils.data.DataLoader(train, batch_size=128, shuffle=True)\n",
    "valLoader = torch.utils.data.DataLoader(val, batch_size=128, shuffle=True)"
   ]
  },
  {
   "cell_type": "code",
   "execution_count": 4,
   "metadata": {},
   "outputs": [
    {
     "name": "stdout",
     "output_type": "stream",
     "text": [
      "Using GPU\n"
     ]
    }
   ],
   "source": [
    "model = tv.models.resnet50()\n",
    "model.conv1 = torch.nn.Conv2d(1, 64, kernel_size=(7, 7), stride=(2, 2), padding=(3, 3), bias=False)\n",
    "model.fc = torch.nn.Linear(in_features=2048, out_features=10, bias=True)\n",
    "if(torch.cuda.is_available()):\n",
    "    print('Using GPU')\n",
    "    model = model.cuda()"
   ]
  },
  {
   "cell_type": "code",
   "execution_count": 5,
   "metadata": {},
   "outputs": [],
   "source": [
    "criterion = torch.nn.CrossEntropyLoss()\n",
    "optimizer = torch.optim.SGD(model.parameters(), lr=0.001, momentum=0.9)"
   ]
  },
  {
   "cell_type": "code",
   "execution_count": 6,
   "metadata": {},
   "outputs": [
    {
     "name": "stdout",
     "output_type": "stream",
     "text": [
      "Training....\n",
      "Epoch: 0 Batch: 100 loss: 0.8476041555404663\n",
      "Epoch: 0 Batch: 200 loss: 0.4154044985771179\n",
      "Epoch: 0 Batch: 300 loss: 0.3029526472091675\n",
      "Epoch: 0 Batch: 400 loss: 0.16123035550117493\n",
      "Epoch: 1 Batch: 100 loss: 0.043583132326602936\n",
      "Epoch: 1 Batch: 200 loss: 0.17669670283794403\n",
      "Epoch: 1 Batch: 300 loss: 0.0555841438472271\n",
      "Epoch: 1 Batch: 400 loss: 0.10364382714033127\n",
      "Epoch: 2 Batch: 100 loss: 0.1637398898601532\n",
      "Epoch: 2 Batch: 200 loss: 0.1070326417684555\n",
      "Epoch: 2 Batch: 300 loss: 0.09405642002820969\n",
      "Epoch: 2 Batch: 400 loss: 0.0599663071334362\n",
      "Epoch: 3 Batch: 100 loss: 0.01920899748802185\n",
      "Epoch: 3 Batch: 200 loss: 0.012079800479114056\n",
      "Epoch: 3 Batch: 300 loss: 0.06716079264879227\n",
      "Epoch: 3 Batch: 400 loss: 0.04215865954756737\n",
      "Epoch: 4 Batch: 100 loss: 0.022891538217663765\n",
      "Epoch: 4 Batch: 200 loss: 0.059664350003004074\n",
      "Epoch: 4 Batch: 300 loss: 0.02592439576983452\n",
      "Epoch: 4 Batch: 400 loss: 0.008183004334568977\n",
      "Epoch: 5 Batch: 100 loss: 0.0024268836714327335\n",
      "Epoch: 5 Batch: 200 loss: 0.04826454073190689\n",
      "Epoch: 5 Batch: 300 loss: 0.0018927677301689982\n",
      "Epoch: 5 Batch: 400 loss: 0.026985839009284973\n",
      "Epoch: 6 Batch: 100 loss: 0.0030793691985309124\n",
      "Epoch: 6 Batch: 200 loss: 0.005841339938342571\n",
      "Epoch: 6 Batch: 300 loss: 0.007303932216018438\n",
      "Epoch: 6 Batch: 400 loss: 0.005744116380810738\n",
      "Epoch: 7 Batch: 100 loss: 0.010647221468389034\n",
      "Epoch: 7 Batch: 200 loss: 0.0323038324713707\n",
      "Epoch: 7 Batch: 300 loss: 0.010924803093075752\n",
      "Epoch: 7 Batch: 400 loss: 0.0029110864270478487\n",
      "Epoch: 8 Batch: 100 loss: 0.003938035573810339\n",
      "Epoch: 8 Batch: 200 loss: 0.0025857712607830763\n",
      "Epoch: 8 Batch: 300 loss: 0.004066739231348038\n",
      "Epoch: 8 Batch: 400 loss: 0.0023825408425182104\n",
      "Epoch: 9 Batch: 100 loss: 0.002055172575637698\n",
      "Epoch: 9 Batch: 200 loss: 0.007435622625052929\n",
      "Epoch: 9 Batch: 300 loss: 0.001274448586627841\n",
      "Epoch: 9 Batch: 400 loss: 0.004148057661950588\n",
      "Training Completed in: 238.93397498130798 secs\n",
      "Training accuracy: 96.99183333333333 %\n"
     ]
    }
   ],
   "source": [
    "print('Training....')\n",
    "total = 0\n",
    "correct = 0\n",
    "start = time.time()\n",
    "epochs = 20\n",
    "\n",
    "for epoch in range(epochs):\n",
    "    \n",
    "    for i, data in enumerate(trainLoader, 1):\n",
    "        images, labels = data\n",
    "\n",
    "        if(torch.cuda.is_available()):\n",
    "            images = images.cuda()\n",
    "            labels = labels.cuda()\n",
    "\n",
    "        optimizer.zero_grad()    \n",
    "        outputs = model(images)\n",
    "\n",
    "        _, predicted = torch.max(outputs.data, 1)\n",
    "        total += labels.size(0)\n",
    "        correct += (predicted == labels).sum().item()\n",
    "\n",
    "        loss = criterion(outputs, labels)\n",
    "        if(i%100 == 0):\n",
    "            print('Epoch: {} Batch: {} loss: {}'.format(epoch, i, loss.item()))\n",
    "\n",
    "        loss.backward()\n",
    "        optimizer.step()\n",
    "\n",
    "print('Training Completed in: {} secs'.format(time.time()-start))\n",
    "print('Training accuracy: {} %'.format((correct/total)*100))"
   ]
  },
  {
   "cell_type": "code",
   "execution_count": 7,
   "metadata": {},
   "outputs": [
    {
     "name": "stdout",
     "output_type": "stream",
     "text": [
      "Predicting....\n",
      "Completed in 2.4802470207214355 secs\n"
     ]
    }
   ],
   "source": [
    "print('Predicting....')\n",
    "start = time.time()\n",
    "\n",
    "predictions = torch.LongTensor()\n",
    "allLabels = torch.LongTensor()\n",
    "for i, data in enumerate(valLoader, 1):\n",
    "    images, labels = data\n",
    "\n",
    "    if(torch.cuda.is_available()):\n",
    "        images = images.cuda()\n",
    "        labels = labels.cuda()\n",
    "\n",
    "    if(i%100 == 0):\n",
    "        print('Batch {} done'.format(i))\n",
    "    outputs = model(images)\n",
    "    \n",
    "    pred = outputs.cpu().data.max(1, keepdim=True)[1]\n",
    "    predictions = torch.cat((predictions, pred), dim=0)\n",
    "    allLabels = torch.cat((allLabels, labels), dim=0)\n",
    "    \n",
    "print('Completed in {} secs'.format(time.time() - start))"
   ]
  },
  {
   "cell_type": "code",
   "execution_count": 8,
   "metadata": {},
   "outputs": [
    {
     "data": {
      "text/plain": [
       "tensor([[5],\n",
       "        [3],\n",
       "        [0],\n",
       "        ...,\n",
       "        [8],\n",
       "        [8],\n",
       "        [3]])"
      ]
     },
     "execution_count": 8,
     "metadata": {},
     "output_type": "execute_result"
    }
   ],
   "source": [
    "classification_report(y_pred=predictions, y_true=allLabels)\n",
    "cm = confusion_matrix(allLabels, predictions)\n",
    "ConfusionMatrixDisplay(cm).plot(cmap='Blues', xticks_rotation='vertical', values_format='d')"
   ]
  },
  {
   "cell_type": "code",
   "execution_count": 9,
   "metadata": {},
   "outputs": [],
   "source": [
    "torch.save(model, './models/resnet50-mnist.pt')"
   ]
  }
 ],
 "metadata": {
  "kernelspec": {
   "display_name": "torch",
   "language": "python",
   "name": "python3"
  },
  "language_info": {
   "codemirror_mode": {
    "name": "ipython",
    "version": 3
   },
   "file_extension": ".py",
   "mimetype": "text/x-python",
   "name": "python",
   "nbconvert_exporter": "python",
   "pygments_lexer": "ipython3",
   "version": "3.11.3"
  },
  "orig_nbformat": 4
 },
 "nbformat": 4,
 "nbformat_minor": 2
}
