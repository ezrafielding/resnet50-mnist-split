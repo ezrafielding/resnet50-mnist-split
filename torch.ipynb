{
 "cells": [
  {
   "cell_type": "code",
   "execution_count": 1,
   "metadata": {},
   "outputs": [],
   "source": [
    "import torch\n",
    "import torchvision as tv\n",
    "import time\n",
    "import matplotlib.pyplot as plt\n",
    "from sklearn.metrics import confusion_matrix, classification_report, ConfusionMatrixDisplay"
   ]
  },
  {
   "cell_type": "code",
   "execution_count": 2,
   "metadata": {},
   "outputs": [],
   "source": [
    "transform = tv.transforms.Compose([tv.transforms.ToTensor(), tv.transforms.Normalize((0.5,),(0.5,)),])"
   ]
  },
  {
   "cell_type": "code",
   "execution_count": 3,
   "metadata": {},
   "outputs": [],
   "source": [
    "train = tv.datasets.MNIST('./data/torch/', download=True, train=True, transform=transform)\n",
    "val = tv.datasets.MNIST('./data/torch/', download=True, train=False, transform=transform)\n",
    "trainLoader = torch.utils.data.DataLoader(train, batch_size=128, shuffle=True)\n",
    "valLoader = torch.utils.data.DataLoader(val, batch_size=128, shuffle=True)"
   ]
  },
  {
   "cell_type": "code",
   "execution_count": 4,
   "metadata": {},
   "outputs": [
    {
     "name": "stdout",
     "output_type": "stream",
     "text": [
      "Using GPU\n"
     ]
    }
   ],
   "source": [
    "model = tv.models.resnet50()\n",
    "model.conv1 = torch.nn.Conv2d(1, 64, kernel_size=(7, 7), stride=(2, 2), padding=(3, 3), bias=False)\n",
    "model.fc = torch.nn.Linear(in_features=2048, out_features=10, bias=True)\n",
    "if(torch.cuda.is_available()):\n",
    "    print('Using GPU')\n",
    "    model = model.cuda()"
   ]
  },
  {
   "cell_type": "code",
   "execution_count": 5,
   "metadata": {},
   "outputs": [],
   "source": [
    "criterion = torch.nn.CrossEntropyLoss()\n",
    "optimizer = torch.optim.SGD(model.parameters(), lr=0.001, momentum=0.9)"
   ]
  },
  {
   "cell_type": "code",
   "execution_count": 6,
   "metadata": {},
   "outputs": [
    {
     "name": "stdout",
     "output_type": "stream",
     "text": [
      "Training....\n",
      "Epoch: 0 Batch: 100 loss: 0.8595848083496094\n",
      "Epoch: 0 Batch: 200 loss: 0.2878020703792572\n",
      "Epoch: 0 Batch: 300 loss: 0.237928569316864\n",
      "Epoch: 0 Batch: 400 loss: 0.11428182572126389\n",
      "Epoch: 1 Batch: 100 loss: 0.11322776228189468\n",
      "Epoch: 1 Batch: 200 loss: 0.13316312432289124\n",
      "Epoch: 1 Batch: 300 loss: 0.1385810822248459\n",
      "Epoch: 1 Batch: 400 loss: 0.13469067215919495\n",
      "Epoch: 2 Batch: 100 loss: 0.05997692793607712\n",
      "Epoch: 2 Batch: 200 loss: 0.08028801530599594\n",
      "Epoch: 2 Batch: 300 loss: 0.07571039348840714\n",
      "Epoch: 2 Batch: 400 loss: 0.1451871544122696\n",
      "Epoch: 3 Batch: 100 loss: 0.022097976878285408\n",
      "Epoch: 3 Batch: 200 loss: 0.07118763774633408\n",
      "Epoch: 3 Batch: 300 loss: 0.009478576481342316\n",
      "Epoch: 3 Batch: 400 loss: 0.03704780712723732\n",
      "Epoch: 4 Batch: 100 loss: 0.043308112770318985\n",
      "Epoch: 4 Batch: 200 loss: 0.03702158108353615\n",
      "Epoch: 4 Batch: 300 loss: 0.018493758514523506\n",
      "Epoch: 4 Batch: 400 loss: 0.04973183572292328\n",
      "Epoch: 5 Batch: 100 loss: 0.01073854137212038\n",
      "Epoch: 5 Batch: 200 loss: 0.01394119206815958\n",
      "Epoch: 5 Batch: 300 loss: 0.014008049853146076\n",
      "Epoch: 5 Batch: 400 loss: 0.01071244478225708\n",
      "Epoch: 6 Batch: 100 loss: 0.002888067625463009\n",
      "Epoch: 6 Batch: 200 loss: 0.04577356576919556\n",
      "Epoch: 6 Batch: 300 loss: 0.00665986817330122\n",
      "Epoch: 6 Batch: 400 loss: 0.0010559286456555128\n",
      "Epoch: 7 Batch: 100 loss: 0.005400432739406824\n",
      "Epoch: 7 Batch: 200 loss: 0.012233547866344452\n",
      "Epoch: 7 Batch: 300 loss: 0.017692727968096733\n",
      "Epoch: 7 Batch: 400 loss: 0.0012298804940655828\n",
      "Epoch: 8 Batch: 100 loss: 0.0008638855651952326\n",
      "Epoch: 8 Batch: 200 loss: 0.00384517596103251\n",
      "Epoch: 8 Batch: 300 loss: 0.0021195674780756235\n",
      "Epoch: 8 Batch: 400 loss: 0.004839461762458086\n",
      "Epoch: 9 Batch: 100 loss: 0.001011596410535276\n",
      "Epoch: 9 Batch: 200 loss: 0.0011727414093911648\n",
      "Epoch: 9 Batch: 300 loss: 0.0006521782488562167\n",
      "Epoch: 9 Batch: 400 loss: 0.0017972218338400126\n",
      "Epoch: 10 Batch: 100 loss: 0.0034016293939203024\n",
      "Epoch: 10 Batch: 200 loss: 0.0014107080642133951\n",
      "Epoch: 10 Batch: 300 loss: 0.00026531796902418137\n",
      "Epoch: 10 Batch: 400 loss: 0.0077638826332986355\n",
      "Epoch: 11 Batch: 100 loss: 0.0002750682469923049\n",
      "Epoch: 11 Batch: 200 loss: 0.0021336162462830544\n",
      "Epoch: 11 Batch: 300 loss: 0.0005908417515456676\n",
      "Epoch: 11 Batch: 400 loss: 0.0022877759765833616\n",
      "Epoch: 12 Batch: 100 loss: 0.0006180296186357737\n",
      "Epoch: 12 Batch: 200 loss: 0.0012122081825509667\n",
      "Epoch: 12 Batch: 300 loss: 0.0003858825075440109\n",
      "Epoch: 12 Batch: 400 loss: 0.0005192111129872501\n",
      "Epoch: 13 Batch: 100 loss: 0.0004209170874673873\n",
      "Epoch: 13 Batch: 200 loss: 0.0004242613504175097\n",
      "Epoch: 13 Batch: 300 loss: 0.0007976658525876701\n",
      "Epoch: 13 Batch: 400 loss: 0.0008831489831209183\n",
      "Epoch: 14 Batch: 100 loss: 7.721906149527058e-05\n",
      "Epoch: 14 Batch: 200 loss: 0.0007308661588467658\n",
      "Epoch: 14 Batch: 300 loss: 0.0004948656423948705\n",
      "Epoch: 14 Batch: 400 loss: 0.0008463356643915176\n",
      "Epoch: 15 Batch: 100 loss: 0.000384156679501757\n",
      "Epoch: 15 Batch: 200 loss: 0.0016827807994559407\n",
      "Epoch: 15 Batch: 300 loss: 0.0001950916339410469\n",
      "Epoch: 15 Batch: 400 loss: 0.0015343656996265054\n",
      "Epoch: 16 Batch: 100 loss: 0.0005997370462864637\n",
      "Epoch: 16 Batch: 200 loss: 0.0031889579258859158\n",
      "Epoch: 16 Batch: 300 loss: 0.0018585280049592257\n",
      "Epoch: 16 Batch: 400 loss: 0.00048167299246415496\n",
      "Epoch: 17 Batch: 100 loss: 0.0006919689476490021\n",
      "Epoch: 17 Batch: 200 loss: 0.00016234494978561997\n",
      "Epoch: 17 Batch: 300 loss: 0.00019735508249141276\n",
      "Epoch: 17 Batch: 400 loss: 0.0006831309874542058\n",
      "Epoch: 18 Batch: 100 loss: 0.0026748711243271828\n",
      "Epoch: 18 Batch: 200 loss: 0.0005277121672406793\n",
      "Epoch: 18 Batch: 300 loss: 6.779625982744619e-05\n",
      "Epoch: 18 Batch: 400 loss: 0.0004682349390350282\n",
      "Epoch: 19 Batch: 100 loss: 7.13270710548386e-05\n",
      "Epoch: 19 Batch: 200 loss: 0.0002048924652626738\n",
      "Epoch: 19 Batch: 300 loss: 0.0002633456024341285\n",
      "Epoch: 19 Batch: 400 loss: 0.0030830681789666414\n",
      "Training Completed in: 151.4966938495636 secs\n",
      "Training accuracy: 98.5395 %\n"
     ]
    }
   ],
   "source": [
    "print('Training....')\n",
    "total = 0\n",
    "correct = 0\n",
    "start = time.time()\n",
    "epochs = 20\n",
    "\n",
    "for epoch in range(epochs):\n",
    "    \n",
    "    for i, data in enumerate(trainLoader, 1):\n",
    "        images, labels = data\n",
    "\n",
    "        if(torch.cuda.is_available()):\n",
    "            images = images.cuda()\n",
    "            labels = labels.cuda()\n",
    "\n",
    "        optimizer.zero_grad()    \n",
    "        outputs = model(images)\n",
    "\n",
    "        _, predicted = torch.max(outputs.data, 1)\n",
    "        total += labels.size(0)\n",
    "        correct += (predicted == labels).sum().item()\n",
    "\n",
    "        loss = criterion(outputs, labels)\n",
    "        if(i%100 == 0):\n",
    "            print('Epoch: {} Batch: {} loss: {}'.format(epoch, i, loss.item()))\n",
    "\n",
    "        loss.backward()\n",
    "        optimizer.step()\n",
    "\n",
    "print('Training Completed in: {} secs'.format(time.time()-start))\n",
    "print('Training accuracy: {} %'.format((correct/total)*100))"
   ]
  },
  {
   "cell_type": "code",
   "execution_count": 7,
   "metadata": {},
   "outputs": [
    {
     "name": "stdout",
     "output_type": "stream",
     "text": [
      "Predicting....\n",
      "Completed in 0.8324370384216309 secs\n"
     ]
    }
   ],
   "source": [
    "print('Predicting....')\n",
    "start = time.time()\n",
    "\n",
    "predictions = torch.LongTensor()\n",
    "allLabels = torch.LongTensor()\n",
    "for i, data in enumerate(valLoader, 1):\n",
    "    images, labels = data\n",
    "\n",
    "    if(torch.cuda.is_available()):\n",
    "        images = images.cuda()\n",
    "\n",
    "    if(i%100 == 0):\n",
    "        print('Batch {} done'.format(i))\n",
    "    outputs = model(images)\n",
    "    \n",
    "    pred = outputs.cpu().data.max(1, keepdim=True)[1]\n",
    "    predictions = torch.cat((predictions, pred), dim=0)\n",
    "    allLabels = torch.cat((allLabels, labels), dim=0)\n",
    "    \n",
    "print('Completed in {} secs'.format(time.time() - start))"
   ]
  },
  {
   "cell_type": "code",
   "execution_count": 8,
   "metadata": {},
   "outputs": [
    {
     "name": "stdout",
     "output_type": "stream",
     "text": [
      "              precision    recall  f1-score   support\n",
      "\n",
      "           0       0.99      0.99      0.99       980\n",
      "           1       0.99      1.00      0.99      1135\n",
      "           2       0.98      0.98      0.98      1032\n",
      "           3       0.98      0.99      0.98      1010\n",
      "           4       0.99      0.98      0.98       982\n",
      "           5       0.98      0.98      0.98       892\n",
      "           6       0.99      0.98      0.98       958\n",
      "           7       0.97      0.98      0.98      1028\n",
      "           8       0.98      0.98      0.98       974\n",
      "           9       0.98      0.96      0.97      1009\n",
      "\n",
      "    accuracy                           0.98     10000\n",
      "   macro avg       0.98      0.98      0.98     10000\n",
      "weighted avg       0.98      0.98      0.98     10000\n",
      "\n"
     ]
    },
    {
     "data": {
      "text/plain": [
       "<sklearn.metrics._plot.confusion_matrix.ConfusionMatrixDisplay at 0x7fd365d7af90>"
      ]
     },
     "execution_count": 8,
     "metadata": {},
     "output_type": "execute_result"
    },
    {
     "data": {
      "image/png": "[encoded data removed]",
      "text/plain": [
       "<Figure size 640x480 with 2 Axes>"
      ]
     },
     "metadata": {},
     "output_type": "display_data"
    }
   ],
   "source": [
    "print(classification_report(y_pred=predictions, y_true=allLabels))\n",
    "cm = confusion_matrix(allLabels, predictions)\n",
    "ConfusionMatrixDisplay(cm).plot(cmap='Blues', xticks_rotation='vertical', values_format='d')"
   ]
  },
  {
   "cell_type": "code",
   "execution_count": 9,
   "metadata": {},
   "outputs": [],
   "source": [
    "torch.save(model, './models/resnet50-pytorch.pt')"
   ]
  },
  {
   "cell_type": "code",
   "execution_count": null,
   "metadata": {},
   "outputs": [],
   "source": []
  }
 ],
 "metadata": {
  "kernelspec": {
   "display_name": "torch",
   "language": "python",
   "name": "python3"
  },
  "language_info": {
   "codemirror_mode": {
    "name": "ipython",
    "version": 3
   },
   "file_extension": ".py",
   "mimetype": "text/x-python",
   "name": "python",
   "nbconvert_exporter": "python",
   "pygments_lexer": "ipython3",
   "version": "3.11.3"
  },
  "orig_nbformat": 4
 },
 "nbformat": 4,
 "nbformat_minor": 2
}
